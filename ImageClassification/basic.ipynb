{
  "nbformat": 4,
  "nbformat_minor": 0,
  "metadata": {
    "colab": {
      "name": "basic.ipynb",
      "provenance": [],
      "collapsed_sections": [],
      "authorship_tag": "ABX9TyPeCR55yEI2b6OnSIiVhJHu",
      "include_colab_link": true
    },
    "kernelspec": {
      "name": "python3",
      "display_name": "Python 3"
    },
    "language_info": {
      "name": "python"
    },
    "accelerator": "GPU"
  },
  "cells": [
    {
      "cell_type": "markdown",
      "metadata": {
        "id": "view-in-github",
        "colab_type": "text"
      },
      "source": [
        "<a href=\"https://colab.research.google.com/github/jhlee93/Baseline/blob/main/ImageClassification/basic.ipynb\" target=\"_parent\"><img src=\"https://colab.research.google.com/assets/colab-badge.svg\" alt=\"Open In Colab\"/></a>"
      ]
    },
    {
      "cell_type": "markdown",
      "source": [
        "## 구글드라이브 마운트"
      ],
      "metadata": {
        "id": "cmGl8QaMJwOy"
      }
    },
    {
      "cell_type": "code",
      "source": [
        "from google.colab import drive\n",
        "drive.mount('/content/drive')"
      ],
      "metadata": {
        "colab": {
          "base_uri": "https://localhost:8080/"
        },
        "id": "ZTQlRqWgJzGU",
        "outputId": "3a9ebc07-17d9-4647-d822-da402f9a9fe2"
      },
      "execution_count": 1,
      "outputs": [
        {
          "output_type": "stream",
          "name": "stdout",
          "text": [
            "Drive already mounted at /content/drive; to attempt to forcibly remount, call drive.mount(\"/content/drive\", force_remount=True).\n"
          ]
        }
      ]
    },
    {
      "cell_type": "markdown",
      "source": [
        "## 작업 경로 현재 디렉토리 경로로 변경"
      ],
      "metadata": {
        "id": "3pDsg9L-KON9"
      }
    },
    {
      "cell_type": "code",
      "source": [
        "import os\n",
        "# 경로 변경\n",
        "os.chdir('/content/drive/MyDrive/Study/ImageClassification')\n",
        "\n",
        "# 현재 경로 확인\n",
        "!pwd\n",
        "!ls"
      ],
      "metadata": {
        "colab": {
          "base_uri": "https://localhost:8080/"
        },
        "id": "1GBjEkcsKjZv",
        "outputId": "8da4cece-36dd-42f4-ca0e-a4d11a58086e"
      },
      "execution_count": 2,
      "outputs": [
        {
          "output_type": "stream",
          "name": "stdout",
          "text": [
            "/content/drive/MyDrive/Study/ImageClassification\n",
            "basic.ipynb  finger_numbers  finger_numbers.zip\n"
          ]
        }
      ]
    },
    {
      "cell_type": "markdown",
      "source": [
        "## tensorflow 및 기타 라이브러리 임포트"
      ],
      "metadata": {
        "id": "1VrNe0BTIjCh"
      }
    },
    {
      "cell_type": "code",
      "source": [
        "from glob import glob\n",
        "import numpy as np\n",
        "import pandas as pd\n",
        "from PIL import Image\n",
        "import matplotlib.pyplot as plt\n",
        "\n",
        "import tensorflow as tf\n",
        "from tensorflow.keras.models import Sequential\n",
        "from tensorflow.keras.layers import Conv2D, MaxPooling2D, Flatten, Dense, Dropout\n",
        "from tensorflow.keras.callbacks import ModelCheckpoint\n",
        "from tensorflow.keras.models import load_model"
      ],
      "metadata": {
        "id": "Vj3VsohlI4Lc"
      },
      "execution_count": 3,
      "outputs": []
    },
    {
      "cell_type": "markdown",
      "source": [
        "## 데이터셋 준비"
      ],
      "metadata": {
        "id": "bhXzXPebOKPx"
      }
    },
    {
      "cell_type": "code",
      "source": [
        "# # finger_numbers.zip를 finger_numbers 폴더에 압축 해제\n",
        "# !unzip ./finger_numbers.zip -d ./finger_numbers\n",
        "\n",
        "# # finger_numbers 디렉토리 확인\n",
        "# !ls finger_numbers"
      ],
      "metadata": {
        "id": "gojXHQFtI91i"
      },
      "execution_count": 4,
      "outputs": []
    },
    {
      "cell_type": "code",
      "source": [
        "# finger_numbers 데이터셋의 이미지는 모두 png 확장자\n",
        "# glob 함수를 통해 png 확장자를 갖는 모든 학습 및 평가 데이터 경로를 리스트 형태로 담음\n",
        "train_files = glob('./finger_numbers/train/*.png')\n",
        "test_files = glob('./finger_numbers/test/*.png')\n",
        "train_label = pd.read_csv('./finger_numbers/train_label.csv', header=None) # 컬럼 명칭이 없는 csv 데이터 이기 때문에 header=None 옵션을 통해 첫번째 행을 바로 데이터로 사용\n",
        "\n",
        "# train_files, test_files 이미지 개수 확인\n",
        "print('num train_files : ', len(train_files)) # 1000개\n",
        "print('num test_files : ', len(test_files)) # 200개\n",
        "\n",
        "# train_files, test_files 5개만 확인\n",
        "print('train_files : ', train_files[:5])\n",
        "print('test_files : ', test_files[:5])\n",
        "\n",
        "# train_label 테이블 확인\n",
        "train_label"
      ],
      "metadata": {
        "colab": {
          "base_uri": "https://localhost:8080/",
          "height": 513
        },
        "id": "kGb2jq31OUAA",
        "outputId": "d70e19fa-819f-4912-f6e5-f4154ae29a9a"
      },
      "execution_count": 5,
      "outputs": [
        {
          "output_type": "stream",
          "name": "stdout",
          "text": [
            "num train_files :  1000\n",
            "num test_files :  200\n",
            "train_files :  ['./finger_numbers/train/train_010.png', './finger_numbers/train/train_061.png', './finger_numbers/train/train_060.png', './finger_numbers/train/train_015.png', './finger_numbers/train/train_037.png']\n",
            "test_files :  ['./finger_numbers/test/test_091.png', './finger_numbers/test/test_129.png', './finger_numbers/test/test_125.png', './finger_numbers/test/test_163.png', './finger_numbers/test/test_175.png']\n"
          ]
        },
        {
          "output_type": "execute_result",
          "data": {
            "text/html": [
              "\n",
              "  <div id=\"df-71dd03fe-f7bd-4b2d-8289-5c6bc6a23a19\">\n",
              "    <div class=\"colab-df-container\">\n",
              "      <div>\n",
              "<style scoped>\n",
              "    .dataframe tbody tr th:only-of-type {\n",
              "        vertical-align: middle;\n",
              "    }\n",
              "\n",
              "    .dataframe tbody tr th {\n",
              "        vertical-align: top;\n",
              "    }\n",
              "\n",
              "    .dataframe thead th {\n",
              "        text-align: right;\n",
              "    }\n",
              "</style>\n",
              "<table border=\"1\" class=\"dataframe\">\n",
              "  <thead>\n",
              "    <tr style=\"text-align: right;\">\n",
              "      <th></th>\n",
              "      <th>0</th>\n",
              "    </tr>\n",
              "  </thead>\n",
              "  <tbody>\n",
              "    <tr>\n",
              "      <th>0</th>\n",
              "      <td>5</td>\n",
              "    </tr>\n",
              "    <tr>\n",
              "      <th>1</th>\n",
              "      <td>0</td>\n",
              "    </tr>\n",
              "    <tr>\n",
              "      <th>2</th>\n",
              "      <td>2</td>\n",
              "    </tr>\n",
              "    <tr>\n",
              "      <th>3</th>\n",
              "      <td>5</td>\n",
              "    </tr>\n",
              "    <tr>\n",
              "      <th>4</th>\n",
              "      <td>2</td>\n",
              "    </tr>\n",
              "    <tr>\n",
              "      <th>...</th>\n",
              "      <td>...</td>\n",
              "    </tr>\n",
              "    <tr>\n",
              "      <th>995</th>\n",
              "      <td>4</td>\n",
              "    </tr>\n",
              "    <tr>\n",
              "      <th>996</th>\n",
              "      <td>4</td>\n",
              "    </tr>\n",
              "    <tr>\n",
              "      <th>997</th>\n",
              "      <td>5</td>\n",
              "    </tr>\n",
              "    <tr>\n",
              "      <th>998</th>\n",
              "      <td>1</td>\n",
              "    </tr>\n",
              "    <tr>\n",
              "      <th>999</th>\n",
              "      <td>2</td>\n",
              "    </tr>\n",
              "  </tbody>\n",
              "</table>\n",
              "<p>1000 rows × 1 columns</p>\n",
              "</div>\n",
              "      <button class=\"colab-df-convert\" onclick=\"convertToInteractive('df-71dd03fe-f7bd-4b2d-8289-5c6bc6a23a19')\"\n",
              "              title=\"Convert this dataframe to an interactive table.\"\n",
              "              style=\"display:none;\">\n",
              "        \n",
              "  <svg xmlns=\"http://www.w3.org/2000/svg\" height=\"24px\"viewBox=\"0 0 24 24\"\n",
              "       width=\"24px\">\n",
              "    <path d=\"M0 0h24v24H0V0z\" fill=\"none\"/>\n",
              "    <path d=\"M18.56 5.44l.94 2.06.94-2.06 2.06-.94-2.06-.94-.94-2.06-.94 2.06-2.06.94zm-11 1L8.5 8.5l.94-2.06 2.06-.94-2.06-.94L8.5 2.5l-.94 2.06-2.06.94zm10 10l.94 2.06.94-2.06 2.06-.94-2.06-.94-.94-2.06-.94 2.06-2.06.94z\"/><path d=\"M17.41 7.96l-1.37-1.37c-.4-.4-.92-.59-1.43-.59-.52 0-1.04.2-1.43.59L10.3 9.45l-7.72 7.72c-.78.78-.78 2.05 0 2.83L4 21.41c.39.39.9.59 1.41.59.51 0 1.02-.2 1.41-.59l7.78-7.78 2.81-2.81c.8-.78.8-2.07 0-2.86zM5.41 20L4 18.59l7.72-7.72 1.47 1.35L5.41 20z\"/>\n",
              "  </svg>\n",
              "      </button>\n",
              "      \n",
              "  <style>\n",
              "    .colab-df-container {\n",
              "      display:flex;\n",
              "      flex-wrap:wrap;\n",
              "      gap: 12px;\n",
              "    }\n",
              "\n",
              "    .colab-df-convert {\n",
              "      background-color: #E8F0FE;\n",
              "      border: none;\n",
              "      border-radius: 50%;\n",
              "      cursor: pointer;\n",
              "      display: none;\n",
              "      fill: #1967D2;\n",
              "      height: 32px;\n",
              "      padding: 0 0 0 0;\n",
              "      width: 32px;\n",
              "    }\n",
              "\n",
              "    .colab-df-convert:hover {\n",
              "      background-color: #E2EBFA;\n",
              "      box-shadow: 0px 1px 2px rgba(60, 64, 67, 0.3), 0px 1px 3px 1px rgba(60, 64, 67, 0.15);\n",
              "      fill: #174EA6;\n",
              "    }\n",
              "\n",
              "    [theme=dark] .colab-df-convert {\n",
              "      background-color: #3B4455;\n",
              "      fill: #D2E3FC;\n",
              "    }\n",
              "\n",
              "    [theme=dark] .colab-df-convert:hover {\n",
              "      background-color: #434B5C;\n",
              "      box-shadow: 0px 1px 3px 1px rgba(0, 0, 0, 0.15);\n",
              "      filter: drop-shadow(0px 1px 2px rgba(0, 0, 0, 0.3));\n",
              "      fill: #FFFFFF;\n",
              "    }\n",
              "  </style>\n",
              "\n",
              "      <script>\n",
              "        const buttonEl =\n",
              "          document.querySelector('#df-71dd03fe-f7bd-4b2d-8289-5c6bc6a23a19 button.colab-df-convert');\n",
              "        buttonEl.style.display =\n",
              "          google.colab.kernel.accessAllowed ? 'block' : 'none';\n",
              "\n",
              "        async function convertToInteractive(key) {\n",
              "          const element = document.querySelector('#df-71dd03fe-f7bd-4b2d-8289-5c6bc6a23a19');\n",
              "          const dataTable =\n",
              "            await google.colab.kernel.invokeFunction('convertToInteractive',\n",
              "                                                     [key], {});\n",
              "          if (!dataTable) return;\n",
              "\n",
              "          const docLinkHtml = 'Like what you see? Visit the ' +\n",
              "            '<a target=\"_blank\" href=https://colab.research.google.com/notebooks/data_table.ipynb>data table notebook</a>'\n",
              "            + ' to learn more about interactive tables.';\n",
              "          element.innerHTML = '';\n",
              "          dataTable['output_type'] = 'display_data';\n",
              "          await google.colab.output.renderOutput(dataTable, element);\n",
              "          const docLink = document.createElement('div');\n",
              "          docLink.innerHTML = docLinkHtml;\n",
              "          element.appendChild(docLink);\n",
              "        }\n",
              "      </script>\n",
              "    </div>\n",
              "  </div>\n",
              "  "
            ],
            "text/plain": [
              "     0\n",
              "0    5\n",
              "1    0\n",
              "2    2\n",
              "3    5\n",
              "4    2\n",
              "..  ..\n",
              "995  4\n",
              "996  4\n",
              "997  5\n",
              "998  1\n",
              "999  2\n",
              "\n",
              "[1000 rows x 1 columns]"
            ]
          },
          "metadata": {},
          "execution_count": 5
        }
      ]
    },
    {
      "cell_type": "code",
      "source": [
        "# train_label과 순서를 맞추기 위해 정렬\n",
        "train_files = sorted(train_files)\n",
        "test_files = sorted(test_files)\n",
        "\n",
        "# train_label 테이블에 컬럼 이름 label로 변경\n",
        "train_label.columns = ['label']\n",
        "train_label.head()"
      ],
      "metadata": {
        "colab": {
          "base_uri": "https://localhost:8080/",
          "height": 206
        },
        "id": "e2CoAqGnPBYJ",
        "outputId": "b534f381-6d41-42bc-e28b-c542287d9228"
      },
      "execution_count": 6,
      "outputs": [
        {
          "output_type": "execute_result",
          "data": {
            "text/html": [
              "\n",
              "  <div id=\"df-ed86f9f9-8b08-4f52-bc67-fd73c6375004\">\n",
              "    <div class=\"colab-df-container\">\n",
              "      <div>\n",
              "<style scoped>\n",
              "    .dataframe tbody tr th:only-of-type {\n",
              "        vertical-align: middle;\n",
              "    }\n",
              "\n",
              "    .dataframe tbody tr th {\n",
              "        vertical-align: top;\n",
              "    }\n",
              "\n",
              "    .dataframe thead th {\n",
              "        text-align: right;\n",
              "    }\n",
              "</style>\n",
              "<table border=\"1\" class=\"dataframe\">\n",
              "  <thead>\n",
              "    <tr style=\"text-align: right;\">\n",
              "      <th></th>\n",
              "      <th>label</th>\n",
              "    </tr>\n",
              "  </thead>\n",
              "  <tbody>\n",
              "    <tr>\n",
              "      <th>0</th>\n",
              "      <td>5</td>\n",
              "    </tr>\n",
              "    <tr>\n",
              "      <th>1</th>\n",
              "      <td>0</td>\n",
              "    </tr>\n",
              "    <tr>\n",
              "      <th>2</th>\n",
              "      <td>2</td>\n",
              "    </tr>\n",
              "    <tr>\n",
              "      <th>3</th>\n",
              "      <td>5</td>\n",
              "    </tr>\n",
              "    <tr>\n",
              "      <th>4</th>\n",
              "      <td>2</td>\n",
              "    </tr>\n",
              "  </tbody>\n",
              "</table>\n",
              "</div>\n",
              "      <button class=\"colab-df-convert\" onclick=\"convertToInteractive('df-ed86f9f9-8b08-4f52-bc67-fd73c6375004')\"\n",
              "              title=\"Convert this dataframe to an interactive table.\"\n",
              "              style=\"display:none;\">\n",
              "        \n",
              "  <svg xmlns=\"http://www.w3.org/2000/svg\" height=\"24px\"viewBox=\"0 0 24 24\"\n",
              "       width=\"24px\">\n",
              "    <path d=\"M0 0h24v24H0V0z\" fill=\"none\"/>\n",
              "    <path d=\"M18.56 5.44l.94 2.06.94-2.06 2.06-.94-2.06-.94-.94-2.06-.94 2.06-2.06.94zm-11 1L8.5 8.5l.94-2.06 2.06-.94-2.06-.94L8.5 2.5l-.94 2.06-2.06.94zm10 10l.94 2.06.94-2.06 2.06-.94-2.06-.94-.94-2.06-.94 2.06-2.06.94z\"/><path d=\"M17.41 7.96l-1.37-1.37c-.4-.4-.92-.59-1.43-.59-.52 0-1.04.2-1.43.59L10.3 9.45l-7.72 7.72c-.78.78-.78 2.05 0 2.83L4 21.41c.39.39.9.59 1.41.59.51 0 1.02-.2 1.41-.59l7.78-7.78 2.81-2.81c.8-.78.8-2.07 0-2.86zM5.41 20L4 18.59l7.72-7.72 1.47 1.35L5.41 20z\"/>\n",
              "  </svg>\n",
              "      </button>\n",
              "      \n",
              "  <style>\n",
              "    .colab-df-container {\n",
              "      display:flex;\n",
              "      flex-wrap:wrap;\n",
              "      gap: 12px;\n",
              "    }\n",
              "\n",
              "    .colab-df-convert {\n",
              "      background-color: #E8F0FE;\n",
              "      border: none;\n",
              "      border-radius: 50%;\n",
              "      cursor: pointer;\n",
              "      display: none;\n",
              "      fill: #1967D2;\n",
              "      height: 32px;\n",
              "      padding: 0 0 0 0;\n",
              "      width: 32px;\n",
              "    }\n",
              "\n",
              "    .colab-df-convert:hover {\n",
              "      background-color: #E2EBFA;\n",
              "      box-shadow: 0px 1px 2px rgba(60, 64, 67, 0.3), 0px 1px 3px 1px rgba(60, 64, 67, 0.15);\n",
              "      fill: #174EA6;\n",
              "    }\n",
              "\n",
              "    [theme=dark] .colab-df-convert {\n",
              "      background-color: #3B4455;\n",
              "      fill: #D2E3FC;\n",
              "    }\n",
              "\n",
              "    [theme=dark] .colab-df-convert:hover {\n",
              "      background-color: #434B5C;\n",
              "      box-shadow: 0px 1px 3px 1px rgba(0, 0, 0, 0.15);\n",
              "      filter: drop-shadow(0px 1px 2px rgba(0, 0, 0, 0.3));\n",
              "      fill: #FFFFFF;\n",
              "    }\n",
              "  </style>\n",
              "\n",
              "      <script>\n",
              "        const buttonEl =\n",
              "          document.querySelector('#df-ed86f9f9-8b08-4f52-bc67-fd73c6375004 button.colab-df-convert');\n",
              "        buttonEl.style.display =\n",
              "          google.colab.kernel.accessAllowed ? 'block' : 'none';\n",
              "\n",
              "        async function convertToInteractive(key) {\n",
              "          const element = document.querySelector('#df-ed86f9f9-8b08-4f52-bc67-fd73c6375004');\n",
              "          const dataTable =\n",
              "            await google.colab.kernel.invokeFunction('convertToInteractive',\n",
              "                                                     [key], {});\n",
              "          if (!dataTable) return;\n",
              "\n",
              "          const docLinkHtml = 'Like what you see? Visit the ' +\n",
              "            '<a target=\"_blank\" href=https://colab.research.google.com/notebooks/data_table.ipynb>data table notebook</a>'\n",
              "            + ' to learn more about interactive tables.';\n",
              "          element.innerHTML = '';\n",
              "          dataTable['output_type'] = 'display_data';\n",
              "          await google.colab.output.renderOutput(dataTable, element);\n",
              "          const docLink = document.createElement('div');\n",
              "          docLink.innerHTML = docLinkHtml;\n",
              "          element.appendChild(docLink);\n",
              "        }\n",
              "      </script>\n",
              "    </div>\n",
              "  </div>\n",
              "  "
            ],
            "text/plain": [
              "   label\n",
              "0      5\n",
              "1      0\n",
              "2      2\n",
              "3      5\n",
              "4      2"
            ]
          },
          "metadata": {},
          "execution_count": 6
        }
      ]
    },
    {
      "cell_type": "code",
      "source": [
        "# 학습 데이터의 클레스별 샘플 개수 확인\n",
        "train_label['label'].value_counts()"
      ],
      "metadata": {
        "colab": {
          "base_uri": "https://localhost:8080/"
        },
        "id": "OB2nMT3lSaMl",
        "outputId": "8c3349f9-e001-4fb3-eb77-5205583c21bb"
      },
      "execution_count": 7,
      "outputs": [
        {
          "output_type": "execute_result",
          "data": {
            "text/plain": [
              "1    169\n",
              "0    169\n",
              "2    168\n",
              "4    167\n",
              "5    165\n",
              "3    162\n",
              "Name: label, dtype: int64"
            ]
          },
          "metadata": {},
          "execution_count": 7
        }
      ]
    },
    {
      "cell_type": "code",
      "source": [
        "# 이미지와 레이블 확인\n",
        "fig = plt.figure(figsize=(10,4))\n",
        "\n",
        "for i, image_path in enumerate(train_files[:30]):\n",
        "    ax = fig.add_subplot(3, 10, i+1) # 3행 10열로 구성된 subplots에서 [1행 1열, 1행 2열 ... ] 순으로 초기화를 진행\n",
        "\n",
        "    img = plt.imread(image_path) # 이미지 파일 읽어오기\n",
        "    ax.imshow(img) # 읽어온 이미지를 plot\n",
        "\n",
        "    ax.set_title(train_label['label'][i]) # 해당 이미지의 레이블 값을 타이틀로 표기합니다.\n",
        "    ax.set_axis_off()\n",
        "\n",
        "plt.show()"
      ],
      "metadata": {
        "colab": {
          "base_uri": "https://localhost:8080/",
          "height": 248
        },
        "id": "FDbmJmhETvlR",
        "outputId": "5b630c89-828a-4ad5-9f46-b61c417fe537"
      },
      "execution_count": 8,
      "outputs": [
        {
          "output_type": "display_data",
          "data": {
            "image/png": "[encoded data removed]",
            "text/plain": [
              "<Figure size 720x288 with 30 Axes>"
            ]
          },
          "metadata": {
            "needs_background": "light"
          }
        }
      ]
    },
    {
      "cell_type": "code",
      "source": [
        "# 이미지 shape 형태를 확인\n",
        "sample_image = Image.open(train_files[0])\n",
        "sample_image = np.array(sample_image)\n",
        "\n",
        "print(sample_image.shape) # (H, W, C) = (세로, 가로, 채널)\n",
        "print(sample_image.dtype) # uint8 0~255"
      ],
      "metadata": {
        "colab": {
          "base_uri": "https://localhost:8080/"
        },
        "id": "S8vr8imhXDyh",
        "outputId": "70414e8c-5c6c-44c5-d848-1aa469ac3f88"
      },
      "execution_count": 9,
      "outputs": [
        {
          "output_type": "stream",
          "name": "stdout",
          "text": [
            "(64, 64, 3)\n",
            "uint8\n"
          ]
        }
      ]
    },
    {
      "cell_type": "markdown",
      "source": [
        "## 데이터 전처리"
      ],
      "metadata": {
        "id": "D35UG3hCaA_O"
      }
    },
    {
      "cell_type": "code",
      "source": [
        "# 2개의 이미지 shape을 확인\n",
        "img0 = np.array(Image.open(train_files[0]))\n",
        "img1 = np.array(Image.open(train_files[1]))\n",
        "print(img0.shape, img1.shape)\n",
        "\n",
        "# 1개의 array로 묶어주기 위해 맨 앞에 차원을 추가\n",
        "img0 = np.expand_dims(img0, axis=0)\n",
        "img1 = np.expand_dims(img1, axis=0)\n",
        "print(img0.shape, img1.shape)\n",
        "\n",
        "# 2개의 이미지를 1개의 array로 concatenate\n",
        "concat_img01 = np.concatenate([img0, img1], axis=0)\n",
        "print(concat_img01.shape) # (Batch, H, W, C)"
      ],
      "metadata": {
        "colab": {
          "base_uri": "https://localhost:8080/"
        },
        "id": "o7kyEjBmanFL",
        "outputId": "dc5675ae-bb37-4168-e2a8-9fee2028ea0d"
      },
      "execution_count": 10,
      "outputs": [
        {
          "output_type": "stream",
          "name": "stdout",
          "text": [
            "(64, 64, 3) (64, 64, 3)\n",
            "(1, 64, 64, 3) (1, 64, 64, 3)\n",
            "(2, 64, 64, 3)\n"
          ]
        }
      ]
    },
    {
      "cell_type": "code",
      "source": [
        "# 위와 같은 방법으로 학습 데이터 전체 1000개를 1개 배열로 concatenate\n",
        "train_inputs = []\n",
        "for file in train_files:\n",
        "    img = Image.open(file)\n",
        "    img = np.array(img)[:,:,:3] # image 가운데 A채널이 있는 4채널인 이미지들의 경우 3채널까지만 잘라줍니다.\n",
        "    img = np.expand_dims(img, axis=0) # 전체 image를 하나의 array로 묶기 위해서 맨 앞에 차원을 하나 추가합니다.\n",
        "    train_inputs.append(img)\n",
        "train_inputs = np.concatenate(train_inputs, axis=0) # 전체를 하나의 array로 묶어줍니다.\n",
        "print('train_inputs shape:', train_inputs.shape)\n",
        "\n",
        "# 평가 데이터도 동일한 방식으로 전처리\n",
        "test_inputs = []\n",
        "for file in test_files:\n",
        "    img = Image.open(file)\n",
        "    img = np.array(img)[:,:,:3]\n",
        "    img = np.expand_dims(img, axis=0)\n",
        "    test_inputs.append(img)\n",
        "test_inputs = np.concatenate(test_inputs, axis=0)\n",
        "print('test_inputs shape:', test_inputs.shape)"
      ],
      "metadata": {
        "colab": {
          "base_uri": "https://localhost:8080/"
        },
        "id": "PzXdZ25Bfcyy",
        "outputId": "b1f0923d-0e14-4cd4-9ade-1a149e2ea3cf"
      },
      "execution_count": 11,
      "outputs": [
        {
          "output_type": "stream",
          "name": "stdout",
          "text": [
            "train_inputs shape: (1000, 64, 64, 3)\n",
            "test_inputs shape: (200, 64, 64, 3)\n"
          ]
        }
      ]
    },
    {
      "cell_type": "code",
      "source": [
        "# 원본 이미지 값 확인\n",
        "print('origin image')\n",
        "print(train_inputs[0, :, :, 0])\n",
        "print()\n",
        "\n",
        "# 정규화\n",
        "train_inputs = (train_inputs / 255).astype(np.float32)\n",
        "test_inputs = (test_inputs / 255).astype(np.float32)\n",
        "\n",
        "# 정규화된 이미지 값 확인\n",
        "print('normalized')\n",
        "print(train_inputs[0, :, :, 0])"
      ],
      "metadata": {
        "colab": {
          "base_uri": "https://localhost:8080/"
        },
        "id": "TPYHC3cdhSvv",
        "outputId": "14895390-fc06-453c-d735-15802bec8120"
      },
      "execution_count": 12,
      "outputs": [
        {
          "output_type": "stream",
          "name": "stdout",
          "text": [
            "origin image\n",
            "[[227 227 227 ... 232 231 230]\n",
            " [227 227 228 ... 232 231 231]\n",
            " [227 227 227 ... 232 231 230]\n",
            " ...\n",
            " [119 124 127 ... 210 211 210]\n",
            " [119 124 126 ... 210 210 209]\n",
            " [119 123 122 ... 209 209 208]]\n",
            "\n",
            "normalized\n",
            "[[0.8901961  0.8901961  0.8901961  ... 0.9098039  0.90588236 0.9019608 ]\n",
            " [0.8901961  0.8901961  0.89411765 ... 0.9098039  0.90588236 0.90588236]\n",
            " [0.8901961  0.8901961  0.8901961  ... 0.9098039  0.90588236 0.9019608 ]\n",
            " ...\n",
            " [0.46666667 0.4862745  0.49803922 ... 0.8235294  0.827451   0.8235294 ]\n",
            " [0.46666667 0.4862745  0.49411765 ... 0.8235294  0.8235294  0.81960785]\n",
            " [0.46666667 0.48235294 0.47843137 ... 0.81960785 0.81960785 0.8156863 ]]\n"
          ]
        }
      ]
    },
    {
      "cell_type": "markdown",
      "source": [
        "## 모델 구성하기"
      ],
      "metadata": {
        "id": "k_HsiFBliiQ8"
      }
    },
    {
      "cell_type": "code",
      "source": [
        "model = Sequential(name=\"my_sequential\")\n",
        "model.add(Conv2D(\n",
        "    filters=32, # conv 필터를 통과한 32개의 피쳐맵을 출력\n",
        "    kernel_size=(3,3),\n",
        "    strides=(1,1),\n",
        "    activation='relu', # relu: conv 필터를 통과한 피쳐맵을 0 이하의 값은 0으로\n",
        "    input_shape=(64, 64, 3),\n",
        "    padding='VALID')) # \"VALID\": 패딩을 적용하지 않음 conv필터 사이즈에 따라 입력 피쳐의 크기 감소 / \"SAME\": 패딩을 적용하여 필터 출력 피쳐의 크기를 유지\n",
        "model.add(MaxPooling2D(pool_size=(2,2)))\n",
        "\n",
        "# 64개 (3,3) conv 필터를 적용: (13,13,32) -> (11,11,64)\n",
        "model.add(Conv2D(filters=64, kernel_size=(3,3), activation='relu'))\n",
        "\n",
        "# Dropout\n",
        "model.add(Dropout(.5)) \n",
        "\n",
        "# (2,2) Maxpooling 적용: (11,11,64) -> (5,5,64) 마지막 1개는 버려짐\n",
        "model.add(MaxPooling2D())\n",
        "\n",
        "# (5,5,64) -> (3,3,64)\n",
        "model.add(Conv2D(filters=64, kernel_size=(3,3), activation='relu'))\n",
        "\n",
        "# summary() 함수를 통해 확인\n",
        "model.summary()"
      ],
      "metadata": {
        "colab": {
          "base_uri": "https://localhost:8080/"
        },
        "id": "xetSFdJhlvBK",
        "outputId": "c9df1e01-38b7-40c6-a6a7-d871bfd174a3"
      },
      "execution_count": 13,
      "outputs": [
        {
          "output_type": "stream",
          "name": "stdout",
          "text": [
            "Model: \"my_sequential\"\n",
            "_________________________________________________________________\n",
            " Layer (type)                Output Shape              Param #   \n",
            "=================================================================\n",
            " conv2d (Conv2D)             (None, 62, 62, 32)        896       \n",
            "                                                                 \n",
            " max_pooling2d (MaxPooling2D  (None, 31, 31, 32)       0         \n",
            " )                                                               \n",
            "                                                                 \n",
            " conv2d_1 (Conv2D)           (None, 29, 29, 64)        18496     \n",
            "                                                                 \n",
            " dropout (Dropout)           (None, 29, 29, 64)        0         \n",
            "                                                                 \n",
            " max_pooling2d_1 (MaxPooling  (None, 14, 14, 64)       0         \n",
            " 2D)                                                             \n",
            "                                                                 \n",
            " conv2d_2 (Conv2D)           (None, 12, 12, 64)        36928     \n",
            "                                                                 \n",
            "=================================================================\n",
            "Total params: 56,320\n",
            "Trainable params: 56,320\n",
            "Non-trainable params: 0\n",
            "_________________________________________________________________\n"
          ]
        }
      ]
    },
    {
      "cell_type": "code",
      "source": [
        "# Dense layer에 통과시키기 위해 마지막 conv layer 통과 후 (3,3,64)의 피쳐맵들을 1치원으로 펼침 --> 3x3x64=576\n",
        "# Conv layer를 네트워크의 입력으로 사용하기 위해 행렬이 아닌 배열로 만들어 주는 과정\n",
        "model.add(Flatten())\n",
        "\n",
        "# Dense layer(Fully connected layer)를 추가\n",
        "# Dense layer는 IN/OUTput을 모두 연결해주는 개념\n",
        "# 1차적으로 펼쳐진 relu 활섬함수를 통해 576개의 피쳐들을 64개로\n",
        "model.add(Dense(64, activation='relu'))\n",
        "\n",
        "# 마지막 Dense layer는 64개의 피쳐들을 모델이 예측해야 할 클래스 갯수(6개 클래스)에 맞춘 후\n",
        "# softmax 활성함수를 적용시켜 6개의 합이 1이 되도록 구성(가장 높은 값의 인덱스가 예측 클래스)\n",
        "model.add(Dense(6, activation='softmax'))\n",
        "\n",
        "model.summary()"
      ],
      "metadata": {
        "colab": {
          "base_uri": "https://localhost:8080/"
        },
        "id": "Us7eKDMon2qo",
        "outputId": "1111c582-5a8d-46a9-80da-e01103b5e092"
      },
      "execution_count": 14,
      "outputs": [
        {
          "output_type": "stream",
          "name": "stdout",
          "text": [
            "Model: \"my_sequential\"\n",
            "_________________________________________________________________\n",
            " Layer (type)                Output Shape              Param #   \n",
            "=================================================================\n",
            " conv2d (Conv2D)             (None, 62, 62, 32)        896       \n",
            "                                                                 \n",
            " max_pooling2d (MaxPooling2D  (None, 31, 31, 32)       0         \n",
            " )                                                               \n",
            "                                                                 \n",
            " conv2d_1 (Conv2D)           (None, 29, 29, 64)        18496     \n",
            "                                                                 \n",
            " dropout (Dropout)           (None, 29, 29, 64)        0         \n",
            "                                                                 \n",
            " max_pooling2d_1 (MaxPooling  (None, 14, 14, 64)       0         \n",
            " 2D)                                                             \n",
            "                                                                 \n",
            " conv2d_2 (Conv2D)           (None, 12, 12, 64)        36928     \n",
            "                                                                 \n",
            " flatten (Flatten)           (None, 9216)              0         \n",
            "                                                                 \n",
            " dense (Dense)               (None, 64)                589888    \n",
            "                                                                 \n",
            " dense_1 (Dense)             (None, 6)                 390       \n",
            "                                                                 \n",
            "=================================================================\n",
            "Total params: 646,598\n",
            "Trainable params: 646,598\n",
            "Non-trainable params: 0\n",
            "_________________________________________________________________\n"
          ]
        }
      ]
    },
    {
      "cell_type": "code",
      "source": [
        "# model = Sequential([\n",
        "#     Conv2D(filters=32, kernel_size=(3,3), strides=(1,1), activation='relu', input_shape=(64, 64, 3), padding='VALID'),\n",
        "#     MaxPooling2D(pool_size=(2,2)),\n",
        "#     Conv2D(filters=64, kernel_size=(3,3), activation='relu'),\n",
        "#     Dropout(.5),\n",
        "#     MaxPooling2D(),\n",
        "#     Conv2D(filters=64, kernel_size=(3,3), activation='relu'),\n",
        "#     Flatten(),\n",
        "#     Dense(64, activation='relu'),\n",
        "#     Dense(10, activation='softmax')\n",
        "# ])\n",
        "# model.summary()"
      ],
      "metadata": {
        "id": "8KhQqGzcpJgC"
      },
      "execution_count": 15,
      "outputs": []
    },
    {
      "cell_type": "code",
      "source": [
        "# 모델 컴파일\n",
        "model.compile(\n",
        "    optimizer='adam',\n",
        "    # loss 함수 설정\n",
        "    # 여러개 중에서 하나를 찾는 다항분류 문제이기 때문에 categorical_crossentropy를 사용\n",
        "    # 하지만 train_label 형태가 0,1,2,3,4,5 와 같은 정수 형태이기 때문에 'sparse_categorical_crossentropy'를 사용\n",
        "    # 만약 train_label이 one-hot encoding 되어있다면 'categorical_crossentropy'를 사용\n",
        "    loss='sparse_categorical_crossentropy',\n",
        "    # 평가 메트릭\n",
        "    metrics=['accuracy'])\n",
        "\n",
        "# DataFrame 형태의 train_label를 학습을 위해 numpy 배열로 변환\n",
        "train_label = train_label['label'].to_numpy()\n",
        "print(train_label.shape)\n",
        "\n",
        "# val_accuracy 성능이 가장 좋은 지점에서 모델 가중치를 저장\n",
        "save_model_path='basic_best.h5'\n",
        "ckpt = ModelCheckpoint(\n",
        "    filepath=save_model_path,\n",
        "    monitor='val_accuracy',\n",
        "    save_best_only=True,\n",
        "    verbose=True)\n",
        "\n",
        "# 훈련 시작\n",
        "epoch = 100\n",
        "history = model.fit(\n",
        "    x=train_inputs,\n",
        "    y=train_label,\n",
        "    validation_split=0.2,\n",
        "    callbacks=[ckpt],\n",
        "    batch_size=4,\n",
        "    epochs=epoch)"
      ],
      "metadata": {
        "colab": {
          "base_uri": "https://localhost:8080/"
        },
        "id": "EkNNcN6bsZ84",
        "outputId": "d2757b5f-de7f-4e48-9937-2c22fbefe89a"
      },
      "execution_count": 17,
      "outputs": [
        {
          "output_type": "stream",
          "name": "stdout",
          "text": [
            "(1000,)\n",
            "Epoch 1/100\n",
            "197/200 [============================>.] - ETA: 0s - loss: 0.1751 - accuracy: 0.9416\n",
            "Epoch 00001: val_accuracy improved from -inf to 0.87000, saving model to basic_best.h5\n",
            "200/200 [==============================] - 4s 13ms/step - loss: 0.1768 - accuracy: 0.9400 - val_loss: 0.3438 - val_accuracy: 0.8700\n",
            "Epoch 2/100\n",
            "199/200 [============================>.] - ETA: 0s - loss: 0.1178 - accuracy: 0.9585\n",
            "Epoch 00002: val_accuracy did not improve from 0.87000\n",
            "200/200 [==============================] - 2s 9ms/step - loss: 0.1182 - accuracy: 0.9588 - val_loss: 0.5894 - val_accuracy: 0.8050\n",
            "Epoch 3/100\n",
            "195/200 [============================>.] - ETA: 0s - loss: 0.0688 - accuracy: 0.9782\n",
            "Epoch 00003: val_accuracy improved from 0.87000 to 0.88500, saving model to basic_best.h5\n",
            "200/200 [==============================] - 2s 12ms/step - loss: 0.0676 - accuracy: 0.9787 - val_loss: 0.3277 - val_accuracy: 0.8850\n",
            "Epoch 4/100\n",
            "197/200 [============================>.] - ETA: 0s - loss: 0.0687 - accuracy: 0.9708\n",
            "Epoch 00004: val_accuracy improved from 0.88500 to 0.89000, saving model to basic_best.h5\n",
            "200/200 [==============================] - 2s 11ms/step - loss: 0.0677 - accuracy: 0.9712 - val_loss: 0.3296 - val_accuracy: 0.8900\n",
            "Epoch 5/100\n",
            "198/200 [============================>.] - ETA: 0s - loss: 0.0967 - accuracy: 0.9672\n",
            "Epoch 00005: val_accuracy did not improve from 0.89000\n",
            "200/200 [==============================] - 2s 11ms/step - loss: 0.0968 - accuracy: 0.9675 - val_loss: 0.3873 - val_accuracy: 0.8750\n",
            "Epoch 6/100\n",
            "200/200 [==============================] - ETA: 0s - loss: 0.0863 - accuracy: 0.9725\n",
            "Epoch 00006: val_accuracy did not improve from 0.89000\n",
            "200/200 [==============================] - 2s 10ms/step - loss: 0.0863 - accuracy: 0.9725 - val_loss: 0.4353 - val_accuracy: 0.8600\n",
            "Epoch 7/100\n",
            "195/200 [============================>.] - ETA: 0s - loss: 0.0375 - accuracy: 0.9885\n",
            "Epoch 00007: val_accuracy did not improve from 0.89000\n",
            "200/200 [==============================] - 2s 10ms/step - loss: 0.0400 - accuracy: 0.9862 - val_loss: 0.4123 - val_accuracy: 0.8900\n",
            "Epoch 8/100\n",
            "198/200 [============================>.] - ETA: 0s - loss: 0.0612 - accuracy: 0.9760\n",
            "Epoch 00008: val_accuracy improved from 0.89000 to 0.90000, saving model to basic_best.h5\n",
            "200/200 [==============================] - 2s 9ms/step - loss: 0.1030 - accuracy: 0.9750 - val_loss: 0.4443 - val_accuracy: 0.9000\n",
            "Epoch 9/100\n",
            "199/200 [============================>.] - ETA: 0s - loss: 0.0298 - accuracy: 0.9912\n",
            "Epoch 00009: val_accuracy did not improve from 0.90000\n",
            "200/200 [==============================] - 1s 7ms/step - loss: 0.0296 - accuracy: 0.9912 - val_loss: 0.3810 - val_accuracy: 0.9000\n",
            "Epoch 10/100\n",
            "193/200 [===========================>..] - ETA: 0s - loss: 0.0531 - accuracy: 0.9832\n",
            "Epoch 00010: val_accuracy did not improve from 0.90000\n",
            "200/200 [==============================] - 1s 7ms/step - loss: 0.0564 - accuracy: 0.9825 - val_loss: 0.4442 - val_accuracy: 0.8850\n",
            "Epoch 11/100\n",
            "195/200 [============================>.] - ETA: 0s - loss: 0.0380 - accuracy: 0.9897\n",
            "Epoch 00011: val_accuracy did not improve from 0.90000\n",
            "200/200 [==============================] - 1s 7ms/step - loss: 0.0372 - accuracy: 0.9900 - val_loss: 0.5264 - val_accuracy: 0.8850\n",
            "Epoch 12/100\n",
            "198/200 [============================>.] - ETA: 0s - loss: 0.0609 - accuracy: 0.9861\n",
            "Epoch 00012: val_accuracy improved from 0.90000 to 0.90500, saving model to basic_best.h5\n",
            "200/200 [==============================] - 2s 8ms/step - loss: 0.0603 - accuracy: 0.9862 - val_loss: 0.4176 - val_accuracy: 0.9050\n",
            "Epoch 13/100\n",
            "199/200 [============================>.] - ETA: 0s - loss: 0.0036 - accuracy: 1.0000\n",
            "Epoch 00013: val_accuracy improved from 0.90500 to 0.91000, saving model to basic_best.h5\n",
            "200/200 [==============================] - 2s 8ms/step - loss: 0.0036 - accuracy: 1.0000 - val_loss: 0.3660 - val_accuracy: 0.9100\n",
            "Epoch 14/100\n",
            "198/200 [============================>.] - ETA: 0s - loss: 8.9275e-04 - accuracy: 1.0000\n",
            "Epoch 00014: val_accuracy did not improve from 0.91000\n",
            "200/200 [==============================] - 1s 7ms/step - loss: 8.9008e-04 - accuracy: 1.0000 - val_loss: 0.3565 - val_accuracy: 0.9100\n",
            "Epoch 15/100\n",
            "195/200 [============================>.] - ETA: 0s - loss: 3.1431e-04 - accuracy: 1.0000\n",
            "Epoch 00015: val_accuracy did not improve from 0.91000\n",
            "200/200 [==============================] - 1s 7ms/step - loss: 3.0711e-04 - accuracy: 1.0000 - val_loss: 0.3579 - val_accuracy: 0.9100\n",
            "Epoch 16/100\n",
            "198/200 [============================>.] - ETA: 0s - loss: 2.4354e-04 - accuracy: 1.0000\n",
            "Epoch 00016: val_accuracy improved from 0.91000 to 0.91500, saving model to basic_best.h5\n",
            "200/200 [==============================] - 2s 8ms/step - loss: 2.4281e-04 - accuracy: 1.0000 - val_loss: 0.3664 - val_accuracy: 0.9150\n",
            "Epoch 17/100\n",
            "193/200 [===========================>..] - ETA: 0s - loss: 1.1528e-04 - accuracy: 1.0000\n",
            "Epoch 00017: val_accuracy did not improve from 0.91500\n",
            "200/200 [==============================] - 1s 7ms/step - loss: 1.1605e-04 - accuracy: 1.0000 - val_loss: 0.3727 - val_accuracy: 0.9150\n",
            "Epoch 18/100\n",
            "196/200 [============================>.] - ETA: 0s - loss: 1.2761e-04 - accuracy: 1.0000\n",
            "Epoch 00018: val_accuracy improved from 0.91500 to 0.92000, saving model to basic_best.h5\n",
            "200/200 [==============================] - 2s 8ms/step - loss: 1.2647e-04 - accuracy: 1.0000 - val_loss: 0.3762 - val_accuracy: 0.9200\n",
            "Epoch 19/100\n",
            "193/200 [===========================>..] - ETA: 0s - loss: 1.0398e-04 - accuracy: 1.0000\n",
            "Epoch 00019: val_accuracy did not improve from 0.92000\n",
            "200/200 [==============================] - 1s 7ms/step - loss: 1.0780e-04 - accuracy: 1.0000 - val_loss: 0.3801 - val_accuracy: 0.9200\n",
            "Epoch 20/100\n",
            "196/200 [============================>.] - ETA: 0s - loss: 1.3402e-04 - accuracy: 1.0000\n",
            "Epoch 00020: val_accuracy did not improve from 0.92000\n",
            "200/200 [==============================] - 1s 7ms/step - loss: 1.4196e-04 - accuracy: 1.0000 - val_loss: 0.3947 - val_accuracy: 0.9200\n",
            "Epoch 21/100\n",
            "199/200 [============================>.] - ETA: 0s - loss: 6.7033e-05 - accuracy: 1.0000\n",
            "Epoch 00021: val_accuracy did not improve from 0.92000\n",
            "200/200 [==============================] - 2s 8ms/step - loss: 6.7030e-05 - accuracy: 1.0000 - val_loss: 0.3945 - val_accuracy: 0.9200\n",
            "Epoch 22/100\n",
            "194/200 [============================>.] - ETA: 0s - loss: 7.2402e-05 - accuracy: 1.0000\n",
            "Epoch 00022: val_accuracy did not improve from 0.92000\n",
            "200/200 [==============================] - 2s 8ms/step - loss: 7.2166e-05 - accuracy: 1.0000 - val_loss: 0.4057 - val_accuracy: 0.9150\n",
            "Epoch 23/100\n",
            "193/200 [===========================>..] - ETA: 0s - loss: 5.8616e-05 - accuracy: 1.0000\n",
            "Epoch 00023: val_accuracy did not improve from 0.92000\n",
            "200/200 [==============================] - 1s 7ms/step - loss: 5.9505e-05 - accuracy: 1.0000 - val_loss: 0.4147 - val_accuracy: 0.9150\n",
            "Epoch 24/100\n",
            "198/200 [============================>.] - ETA: 0s - loss: 2.8545e-05 - accuracy: 1.0000\n",
            "Epoch 00024: val_accuracy did not improve from 0.92000\n",
            "200/200 [==============================] - 2s 7ms/step - loss: 2.8323e-05 - accuracy: 1.0000 - val_loss: 0.4187 - val_accuracy: 0.9150\n",
            "Epoch 25/100\n",
            "197/200 [============================>.] - ETA: 0s - loss: 3.2572e-05 - accuracy: 1.0000\n",
            "Epoch 00025: val_accuracy did not improve from 0.92000\n",
            "200/200 [==============================] - 1s 7ms/step - loss: 3.2423e-05 - accuracy: 1.0000 - val_loss: 0.4194 - val_accuracy: 0.9150\n",
            "Epoch 26/100\n",
            "195/200 [============================>.] - ETA: 0s - loss: 7.3727e-05 - accuracy: 1.0000\n",
            "Epoch 00026: val_accuracy did not improve from 0.92000\n",
            "200/200 [==============================] - 2s 9ms/step - loss: 7.2447e-05 - accuracy: 1.0000 - val_loss: 0.4018 - val_accuracy: 0.9150\n",
            "Epoch 27/100\n",
            "196/200 [============================>.] - ETA: 0s - loss: 4.5163e-05 - accuracy: 1.0000\n",
            "Epoch 00027: val_accuracy did not improve from 0.92000\n",
            "200/200 [==============================] - 2s 9ms/step - loss: 4.4577e-05 - accuracy: 1.0000 - val_loss: 0.4071 - val_accuracy: 0.9150\n",
            "Epoch 28/100\n",
            "199/200 [============================>.] - ETA: 0s - loss: 3.2016e-05 - accuracy: 1.0000\n",
            "Epoch 00028: val_accuracy did not improve from 0.92000\n",
            "200/200 [==============================] - 2s 10ms/step - loss: 3.1876e-05 - accuracy: 1.0000 - val_loss: 0.4115 - val_accuracy: 0.9200\n",
            "Epoch 29/100\n",
            "195/200 [============================>.] - ETA: 0s - loss: 2.5193e-05 - accuracy: 1.0000\n",
            "Epoch 00029: val_accuracy did not improve from 0.92000\n",
            "200/200 [==============================] - 2s 10ms/step - loss: 2.4667e-05 - accuracy: 1.0000 - val_loss: 0.4147 - val_accuracy: 0.9200\n",
            "Epoch 30/100\n",
            "199/200 [============================>.] - ETA: 0s - loss: 2.5241e-05 - accuracy: 1.0000\n",
            "Epoch 00030: val_accuracy did not improve from 0.92000\n",
            "200/200 [==============================] - 2s 11ms/step - loss: 2.5114e-05 - accuracy: 1.0000 - val_loss: 0.4207 - val_accuracy: 0.9200\n",
            "Epoch 31/100\n",
            "197/200 [============================>.] - ETA: 0s - loss: 1.9272e-05 - accuracy: 1.0000\n",
            "Epoch 00031: val_accuracy improved from 0.92000 to 0.92500, saving model to basic_best.h5\n",
            "200/200 [==============================] - 3s 14ms/step - loss: 1.9204e-05 - accuracy: 1.0000 - val_loss: 0.4196 - val_accuracy: 0.9250\n",
            "Epoch 32/100\n",
            "197/200 [============================>.] - ETA: 0s - loss: 1.7104e-05 - accuracy: 1.0000\n",
            "Epoch 00032: val_accuracy did not improve from 0.92500\n",
            "200/200 [==============================] - 2s 11ms/step - loss: 1.7038e-05 - accuracy: 1.0000 - val_loss: 0.4290 - val_accuracy: 0.9250\n",
            "Epoch 33/100\n",
            "197/200 [============================>.] - ETA: 0s - loss: 2.2796e-05 - accuracy: 1.0000\n",
            "Epoch 00033: val_accuracy did not improve from 0.92500\n",
            "200/200 [==============================] - 2s 12ms/step - loss: 2.2504e-05 - accuracy: 1.0000 - val_loss: 0.4385 - val_accuracy: 0.9200\n",
            "Epoch 34/100\n",
            "198/200 [============================>.] - ETA: 0s - loss: 9.9342e-06 - accuracy: 1.0000\n",
            "Epoch 00034: val_accuracy did not improve from 0.92500\n",
            "200/200 [==============================] - 3s 12ms/step - loss: 9.9226e-06 - accuracy: 1.0000 - val_loss: 0.4402 - val_accuracy: 0.9200\n",
            "Epoch 35/100\n",
            "196/200 [============================>.] - ETA: 0s - loss: 1.5514e-05 - accuracy: 1.0000\n",
            "Epoch 00035: val_accuracy did not improve from 0.92500\n",
            "200/200 [==============================] - 2s 11ms/step - loss: 1.5243e-05 - accuracy: 1.0000 - val_loss: 0.4509 - val_accuracy: 0.9200\n",
            "Epoch 36/100\n",
            "197/200 [============================>.] - ETA: 0s - loss: 1.2588e-05 - accuracy: 1.0000\n",
            "Epoch 00036: val_accuracy did not improve from 0.92500\n",
            "200/200 [==============================] - 2s 11ms/step - loss: 1.2469e-05 - accuracy: 1.0000 - val_loss: 0.4507 - val_accuracy: 0.9250\n",
            "Epoch 37/100\n",
            "199/200 [============================>.] - ETA: 0s - loss: 2.5807e-05 - accuracy: 1.0000\n",
            "Epoch 00037: val_accuracy did not improve from 0.92500\n",
            "200/200 [==============================] - 3s 13ms/step - loss: 2.5738e-05 - accuracy: 1.0000 - val_loss: 0.5033 - val_accuracy: 0.9050\n",
            "Epoch 38/100\n",
            "200/200 [==============================] - ETA: 0s - loss: 3.8359e-05 - accuracy: 1.0000\n",
            "Epoch 00038: val_accuracy did not improve from 0.92500\n",
            "200/200 [==============================] - 2s 11ms/step - loss: 3.8359e-05 - accuracy: 1.0000 - val_loss: 0.4683 - val_accuracy: 0.9100\n",
            "Epoch 39/100\n",
            "199/200 [============================>.] - ETA: 0s - loss: 1.4930e-05 - accuracy: 1.0000\n",
            "Epoch 00039: val_accuracy did not improve from 0.92500\n",
            "200/200 [==============================] - 2s 12ms/step - loss: 1.5152e-05 - accuracy: 1.0000 - val_loss: 0.4980 - val_accuracy: 0.9100\n",
            "Epoch 40/100\n",
            "199/200 [============================>.] - ETA: 0s - loss: 9.6510e-06 - accuracy: 1.0000\n",
            "Epoch 00040: val_accuracy did not improve from 0.92500\n",
            "200/200 [==============================] - 2s 11ms/step - loss: 9.6623e-06 - accuracy: 1.0000 - val_loss: 0.4616 - val_accuracy: 0.9150\n",
            "Epoch 41/100\n",
            "196/200 [============================>.] - ETA: 0s - loss: 6.6096e-06 - accuracy: 1.0000\n",
            "Epoch 00041: val_accuracy did not improve from 0.92500\n",
            "200/200 [==============================] - 2s 11ms/step - loss: 6.5578e-06 - accuracy: 1.0000 - val_loss: 0.4591 - val_accuracy: 0.9100\n",
            "Epoch 42/100\n",
            "195/200 [============================>.] - ETA: 0s - loss: 9.3503e-06 - accuracy: 1.0000\n",
            "Epoch 00042: val_accuracy did not improve from 0.92500\n",
            "200/200 [==============================] - 2s 11ms/step - loss: 9.1261e-06 - accuracy: 1.0000 - val_loss: 0.4657 - val_accuracy: 0.9100\n",
            "Epoch 43/100\n",
            "195/200 [============================>.] - ETA: 0s - loss: 5.1093e-06 - accuracy: 1.0000\n",
            "Epoch 00043: val_accuracy did not improve from 0.92500\n",
            "200/200 [==============================] - 2s 11ms/step - loss: 4.9857e-06 - accuracy: 1.0000 - val_loss: 0.4729 - val_accuracy: 0.9100\n",
            "Epoch 44/100\n",
            "200/200 [==============================] - ETA: 0s - loss: 2.0232e-06 - accuracy: 1.0000\n",
            "Epoch 00044: val_accuracy did not improve from 0.92500\n",
            "200/200 [==============================] - 2s 12ms/step - loss: 2.0232e-06 - accuracy: 1.0000 - val_loss: 0.4791 - val_accuracy: 0.9100\n",
            "Epoch 45/100\n",
            "197/200 [============================>.] - ETA: 0s - loss: 2.7089e-06 - accuracy: 1.0000\n",
            "Epoch 00045: val_accuracy did not improve from 0.92500\n",
            "200/200 [==============================] - 2s 11ms/step - loss: 2.6690e-06 - accuracy: 1.0000 - val_loss: 0.4775 - val_accuracy: 0.9100\n",
            "Epoch 46/100\n",
            "196/200 [============================>.] - ETA: 0s - loss: 3.0859e-06 - accuracy: 1.0000\n",
            "Epoch 00046: val_accuracy did not improve from 0.92500\n",
            "200/200 [==============================] - 2s 11ms/step - loss: 3.2354e-06 - accuracy: 1.0000 - val_loss: 0.4817 - val_accuracy: 0.9050\n",
            "Epoch 47/100\n",
            "199/200 [============================>.] - ETA: 0s - loss: 1.3179e-06 - accuracy: 1.0000\n",
            "Epoch 00047: val_accuracy did not improve from 0.92500\n",
            "200/200 [==============================] - 2s 12ms/step - loss: 1.3113e-06 - accuracy: 1.0000 - val_loss: 0.4869 - val_accuracy: 0.9050\n",
            "Epoch 48/100\n",
            "200/200 [==============================] - ETA: 0s - loss: 3.2884e-06 - accuracy: 1.0000\n",
            "Epoch 00048: val_accuracy did not improve from 0.92500\n",
            "200/200 [==============================] - 2s 11ms/step - loss: 3.2884e-06 - accuracy: 1.0000 - val_loss: 0.5150 - val_accuracy: 0.9050\n",
            "Epoch 49/100\n",
            "199/200 [============================>.] - ETA: 0s - loss: 2.6626e-06 - accuracy: 1.0000\n",
            "Epoch 00049: val_accuracy did not improve from 0.92500\n",
            "200/200 [==============================] - 2s 11ms/step - loss: 2.6504e-06 - accuracy: 1.0000 - val_loss: 0.4891 - val_accuracy: 0.9050\n",
            "Epoch 50/100\n",
            "200/200 [==============================] - ETA: 0s - loss: 3.3843e-06 - accuracy: 1.0000\n",
            "Epoch 00050: val_accuracy did not improve from 0.92500\n",
            "200/200 [==============================] - 2s 11ms/step - loss: 3.3843e-06 - accuracy: 1.0000 - val_loss: 0.4626 - val_accuracy: 0.9150\n",
            "Epoch 51/100\n",
            "199/200 [============================>.] - ETA: 0s - loss: 2.2215e-06 - accuracy: 1.0000\n",
            "Epoch 00051: val_accuracy did not improve from 0.92500\n",
            "200/200 [==============================] - 2s 11ms/step - loss: 2.2112e-06 - accuracy: 1.0000 - val_loss: 0.4813 - val_accuracy: 0.9150\n",
            "Epoch 52/100\n",
            "195/200 [============================>.] - ETA: 0s - loss: 1.6765e-06 - accuracy: 1.0000\n",
            "Epoch 00052: val_accuracy did not improve from 0.92500\n",
            "200/200 [==============================] - 2s 11ms/step - loss: 1.6523e-06 - accuracy: 1.0000 - val_loss: 0.4945 - val_accuracy: 0.9100\n",
            "Epoch 53/100\n",
            "199/200 [============================>.] - ETA: 0s - loss: 1.1134e-06 - accuracy: 1.0000\n",
            "Epoch 00053: val_accuracy did not improve from 0.92500\n",
            "200/200 [==============================] - 2s 12ms/step - loss: 1.1083e-06 - accuracy: 1.0000 - val_loss: 0.4910 - val_accuracy: 0.9100\n",
            "Epoch 54/100\n",
            "198/200 [============================>.] - ETA: 0s - loss: 1.2429e-06 - accuracy: 1.0000\n",
            "Epoch 00054: val_accuracy did not improve from 0.92500\n",
            "200/200 [==============================] - 2s 12ms/step - loss: 1.2360e-06 - accuracy: 1.0000 - val_loss: 0.4866 - val_accuracy: 0.9050\n",
            "Epoch 55/100\n",
            "197/200 [============================>.] - ETA: 0s - loss: 8.6516e-07 - accuracy: 1.0000\n",
            "Epoch 00055: val_accuracy did not improve from 0.92500\n",
            "200/200 [==============================] - 2s 11ms/step - loss: 8.5516e-07 - accuracy: 1.0000 - val_loss: 0.4982 - val_accuracy: 0.9050\n",
            "Epoch 56/100\n",
            "199/200 [============================>.] - ETA: 0s - loss: 8.1797e-07 - accuracy: 1.0000\n",
            "Epoch 00056: val_accuracy did not improve from 0.92500\n",
            "200/200 [==============================] - 2s 11ms/step - loss: 8.1388e-07 - accuracy: 1.0000 - val_loss: 0.4985 - val_accuracy: 0.9100\n",
            "Epoch 57/100\n",
            "200/200 [==============================] - ETA: 0s - loss: 9.0462e-07 - accuracy: 1.0000\n",
            "Epoch 00057: val_accuracy did not improve from 0.92500\n",
            "200/200 [==============================] - 2s 10ms/step - loss: 9.0462e-07 - accuracy: 1.0000 - val_loss: 0.5030 - val_accuracy: 0.9100\n",
            "Epoch 58/100\n",
            "197/200 [============================>.] - ETA: 0s - loss: 1.9783e-06 - accuracy: 1.0000\n",
            "Epoch 00058: val_accuracy did not improve from 0.92500\n",
            "200/200 [==============================] - 2s 11ms/step - loss: 1.9492e-06 - accuracy: 1.0000 - val_loss: 0.5142 - val_accuracy: 0.9050\n",
            "Epoch 59/100\n",
            "196/200 [============================>.] - ETA: 0s - loss: 0.8176 - accuracy: 0.7360\n",
            "Epoch 00059: val_accuracy did not improve from 0.92500\n",
            "200/200 [==============================] - 2s 11ms/step - loss: 0.8066 - accuracy: 0.7387 - val_loss: 0.6979 - val_accuracy: 0.7700\n",
            "Epoch 60/100\n",
            "197/200 [============================>.] - ETA: 0s - loss: 0.2403 - accuracy: 0.9213\n",
            "Epoch 00060: val_accuracy did not improve from 0.92500\n",
            "200/200 [==============================] - 2s 11ms/step - loss: 0.2395 - accuracy: 0.9212 - val_loss: 0.4798 - val_accuracy: 0.8500\n",
            "Epoch 61/100\n",
            "196/200 [============================>.] - ETA: 0s - loss: 0.0611 - accuracy: 0.9821\n",
            "Epoch 00061: val_accuracy did not improve from 0.92500\n",
            "200/200 [==============================] - 2s 11ms/step - loss: 0.0604 - accuracy: 0.9825 - val_loss: 0.4459 - val_accuracy: 0.8800\n",
            "Epoch 62/100\n",
            "197/200 [============================>.] - ETA: 0s - loss: 0.0220 - accuracy: 0.9924\n",
            "Epoch 00062: val_accuracy did not improve from 0.92500\n",
            "200/200 [==============================] - 2s 11ms/step - loss: 0.0217 - accuracy: 0.9925 - val_loss: 0.3914 - val_accuracy: 0.8750\n",
            "Epoch 63/100\n",
            "195/200 [============================>.] - ETA: 0s - loss: 0.0210 - accuracy: 0.9936\n",
            "Epoch 00063: val_accuracy did not improve from 0.92500\n",
            "200/200 [==============================] - 2s 11ms/step - loss: 0.0207 - accuracy: 0.9937 - val_loss: 0.4601 - val_accuracy: 0.8900\n",
            "Epoch 64/100\n",
            "197/200 [============================>.] - ETA: 0s - loss: 0.0167 - accuracy: 0.9937\n",
            "Epoch 00064: val_accuracy did not improve from 0.92500\n",
            "200/200 [==============================] - 2s 11ms/step - loss: 0.0164 - accuracy: 0.9937 - val_loss: 0.4512 - val_accuracy: 0.9000\n",
            "Epoch 65/100\n",
            "198/200 [============================>.] - ETA: 0s - loss: 0.0052 - accuracy: 0.9987\n",
            "Epoch 00065: val_accuracy did not improve from 0.92500\n",
            "200/200 [==============================] - 3s 14ms/step - loss: 0.0051 - accuracy: 0.9987 - val_loss: 0.4458 - val_accuracy: 0.9200\n",
            "Epoch 66/100\n",
            "200/200 [==============================] - ETA: 0s - loss: 0.0029 - accuracy: 0.9987\n",
            "Epoch 00066: val_accuracy did not improve from 0.92500\n",
            "200/200 [==============================] - 3s 14ms/step - loss: 0.0029 - accuracy: 0.9987 - val_loss: 0.4328 - val_accuracy: 0.9050\n",
            "Epoch 67/100\n",
            "200/200 [==============================] - ETA: 0s - loss: 5.6096e-04 - accuracy: 1.0000\n",
            "Epoch 00067: val_accuracy did not improve from 0.92500\n",
            "200/200 [==============================] - 2s 11ms/step - loss: 5.6096e-04 - accuracy: 1.0000 - val_loss: 0.4283 - val_accuracy: 0.9100\n",
            "Epoch 68/100\n",
            "196/200 [============================>.] - ETA: 0s - loss: 5.7378e-04 - accuracy: 1.0000\n",
            "Epoch 00068: val_accuracy did not improve from 0.92500\n",
            "200/200 [==============================] - 2s 11ms/step - loss: 5.7846e-04 - accuracy: 1.0000 - val_loss: 0.4486 - val_accuracy: 0.9100\n",
            "Epoch 69/100\n",
            "196/200 [============================>.] - ETA: 0s - loss: 1.2202e-04 - accuracy: 1.0000\n",
            "Epoch 00069: val_accuracy did not improve from 0.92500\n",
            "200/200 [==============================] - 2s 11ms/step - loss: 1.2523e-04 - accuracy: 1.0000 - val_loss: 0.4534 - val_accuracy: 0.9000\n",
            "Epoch 70/100\n",
            "200/200 [==============================] - ETA: 0s - loss: 2.2523e-04 - accuracy: 1.0000\n",
            "Epoch 00070: val_accuracy did not improve from 0.92500\n",
            "200/200 [==============================] - 2s 11ms/step - loss: 2.2523e-04 - accuracy: 1.0000 - val_loss: 0.4511 - val_accuracy: 0.9050\n",
            "Epoch 71/100\n",
            "200/200 [==============================] - ETA: 0s - loss: 1.4364e-04 - accuracy: 1.0000\n",
            "Epoch 00071: val_accuracy did not improve from 0.92500\n",
            "200/200 [==============================] - 2s 12ms/step - loss: 1.4364e-04 - accuracy: 1.0000 - val_loss: 0.4509 - val_accuracy: 0.9100\n",
            "Epoch 72/100\n",
            "200/200 [==============================] - ETA: 0s - loss: 7.2074e-05 - accuracy: 1.0000\n",
            "Epoch 00072: val_accuracy did not improve from 0.92500\n",
            "200/200 [==============================] - 2s 11ms/step - loss: 7.2074e-05 - accuracy: 1.0000 - val_loss: 0.4612 - val_accuracy: 0.9100\n",
            "Epoch 73/100\n",
            "196/200 [============================>.] - ETA: 0s - loss: 9.2479e-05 - accuracy: 1.0000\n",
            "Epoch 00073: val_accuracy did not improve from 0.92500\n",
            "200/200 [==============================] - 2s 12ms/step - loss: 9.0673e-05 - accuracy: 1.0000 - val_loss: 0.4666 - val_accuracy: 0.9050\n",
            "Epoch 74/100\n",
            "197/200 [============================>.] - ETA: 0s - loss: 6.8834e-05 - accuracy: 1.0000\n",
            "Epoch 00074: val_accuracy did not improve from 0.92500\n",
            "200/200 [==============================] - 2s 12ms/step - loss: 6.7929e-05 - accuracy: 1.0000 - val_loss: 0.4677 - val_accuracy: 0.9050\n",
            "Epoch 75/100\n",
            "199/200 [============================>.] - ETA: 0s - loss: 3.6853e-05 - accuracy: 1.0000\n",
            "Epoch 00075: val_accuracy did not improve from 0.92500\n",
            "200/200 [==============================] - 3s 13ms/step - loss: 3.6742e-05 - accuracy: 1.0000 - val_loss: 0.4739 - val_accuracy: 0.9050\n",
            "Epoch 76/100\n",
            "200/200 [==============================] - ETA: 0s - loss: 4.5234e-05 - accuracy: 1.0000\n",
            "Epoch 00076: val_accuracy did not improve from 0.92500\n",
            "200/200 [==============================] - 3s 13ms/step - loss: 4.5234e-05 - accuracy: 1.0000 - val_loss: 0.4813 - val_accuracy: 0.9050\n",
            "Epoch 77/100\n",
            "195/200 [============================>.] - ETA: 0s - loss: 4.9277e-05 - accuracy: 1.0000\n",
            "Epoch 00077: val_accuracy did not improve from 0.92500\n",
            "200/200 [==============================] - 2s 12ms/step - loss: 5.2591e-05 - accuracy: 1.0000 - val_loss: 0.4799 - val_accuracy: 0.9050\n",
            "Epoch 78/100\n",
            "200/200 [==============================] - ETA: 0s - loss: 3.9298e-05 - accuracy: 1.0000\n",
            "Epoch 00078: val_accuracy did not improve from 0.92500\n",
            "200/200 [==============================] - 2s 12ms/step - loss: 3.9298e-05 - accuracy: 1.0000 - val_loss: 0.4855 - val_accuracy: 0.9050\n",
            "Epoch 79/100\n",
            "199/200 [============================>.] - ETA: 0s - loss: 2.3377e-05 - accuracy: 1.0000\n",
            "Epoch 00079: val_accuracy did not improve from 0.92500\n",
            "200/200 [==============================] - 3s 13ms/step - loss: 2.3460e-05 - accuracy: 1.0000 - val_loss: 0.4909 - val_accuracy: 0.9050\n",
            "Epoch 80/100\n",
            "197/200 [============================>.] - ETA: 0s - loss: 5.0780e-05 - accuracy: 1.0000\n",
            "Epoch 00080: val_accuracy did not improve from 0.92500\n",
            "200/200 [==============================] - 2s 11ms/step - loss: 5.0063e-05 - accuracy: 1.0000 - val_loss: 0.5106 - val_accuracy: 0.9050\n",
            "Epoch 81/100\n",
            "198/200 [============================>.] - ETA: 0s - loss: 3.8116e-05 - accuracy: 1.0000\n",
            "Epoch 00081: val_accuracy did not improve from 0.92500\n",
            "200/200 [==============================] - 2s 11ms/step - loss: 3.7759e-05 - accuracy: 1.0000 - val_loss: 0.5003 - val_accuracy: 0.9050\n",
            "Epoch 82/100\n",
            "200/200 [==============================] - ETA: 0s - loss: 2.2559e-05 - accuracy: 1.0000\n",
            "Epoch 00082: val_accuracy did not improve from 0.92500\n",
            "200/200 [==============================] - 2s 11ms/step - loss: 2.2559e-05 - accuracy: 1.0000 - val_loss: 0.5043 - val_accuracy: 0.9050\n",
            "Epoch 83/100\n",
            "198/200 [============================>.] - ETA: 0s - loss: 1.7778e-05 - accuracy: 1.0000\n",
            "Epoch 00083: val_accuracy did not improve from 0.92500\n",
            "200/200 [==============================] - 3s 14ms/step - loss: 1.7633e-05 - accuracy: 1.0000 - val_loss: 0.5111 - val_accuracy: 0.9050\n",
            "Epoch 84/100\n",
            "199/200 [============================>.] - ETA: 0s - loss: 1.5683e-05 - accuracy: 1.0000\n",
            "Epoch 00084: val_accuracy did not improve from 0.92500\n",
            "200/200 [==============================] - 2s 11ms/step - loss: 1.5633e-05 - accuracy: 1.0000 - val_loss: 0.5160 - val_accuracy: 0.9050\n",
            "Epoch 85/100\n",
            "193/200 [===========================>..] - ETA: 0s - loss: 1.8801e-05 - accuracy: 1.0000\n",
            "Epoch 00085: val_accuracy did not improve from 0.92500\n",
            "200/200 [==============================] - 2s 10ms/step - loss: 1.9807e-05 - accuracy: 1.0000 - val_loss: 0.5148 - val_accuracy: 0.9050\n",
            "Epoch 86/100\n",
            "200/200 [==============================] - ETA: 0s - loss: 1.7728e-05 - accuracy: 1.0000\n",
            "Epoch 00086: val_accuracy did not improve from 0.92500\n",
            "200/200 [==============================] - 2s 10ms/step - loss: 1.7728e-05 - accuracy: 1.0000 - val_loss: 0.5159 - val_accuracy: 0.9050\n",
            "Epoch 87/100\n",
            "196/200 [============================>.] - ETA: 0s - loss: 1.7809e-05 - accuracy: 1.0000\n",
            "Epoch 00087: val_accuracy did not improve from 0.92500\n",
            "200/200 [==============================] - 2s 11ms/step - loss: 1.7469e-05 - accuracy: 1.0000 - val_loss: 0.5267 - val_accuracy: 0.9050\n",
            "Epoch 88/100\n",
            "198/200 [============================>.] - ETA: 0s - loss: 7.7559e-06 - accuracy: 1.0000\n",
            "Epoch 00088: val_accuracy did not improve from 0.92500\n",
            "200/200 [==============================] - 2s 12ms/step - loss: 7.7363e-06 - accuracy: 1.0000 - val_loss: 0.5298 - val_accuracy: 0.9050\n",
            "Epoch 89/100\n",
            "199/200 [============================>.] - ETA: 0s - loss: 9.3258e-06 - accuracy: 1.0000\n",
            "Epoch 00089: val_accuracy did not improve from 0.92500\n",
            "200/200 [==============================] - 3s 15ms/step - loss: 9.3027e-06 - accuracy: 1.0000 - val_loss: 0.5357 - val_accuracy: 0.9050\n",
            "Epoch 90/100\n",
            "197/200 [============================>.] - ETA: 0s - loss: 8.5114e-06 - accuracy: 1.0000\n",
            "Epoch 00090: val_accuracy did not improve from 0.92500\n",
            "200/200 [==============================] - 3s 14ms/step - loss: 9.0935e-06 - accuracy: 1.0000 - val_loss: 0.5366 - val_accuracy: 0.9050\n",
            "Epoch 91/100\n",
            "196/200 [============================>.] - ETA: 0s - loss: 7.6327e-06 - accuracy: 1.0000\n",
            "Epoch 00091: val_accuracy did not improve from 0.92500\n",
            "200/200 [==============================] - 3s 14ms/step - loss: 7.6854e-06 - accuracy: 1.0000 - val_loss: 0.5398 - val_accuracy: 0.9050\n",
            "Epoch 92/100\n",
            "199/200 [============================>.] - ETA: 0s - loss: 8.9470e-06 - accuracy: 1.0000\n",
            "Epoch 00092: val_accuracy did not improve from 0.92500\n",
            "200/200 [==============================] - 3s 14ms/step - loss: 8.9049e-06 - accuracy: 1.0000 - val_loss: 0.5362 - val_accuracy: 0.9050\n",
            "Epoch 93/100\n",
            "198/200 [============================>.] - ETA: 0s - loss: 6.6755e-06 - accuracy: 1.0000\n",
            "Epoch 00093: val_accuracy did not improve from 0.92500\n",
            "200/200 [==============================] - 3s 13ms/step - loss: 6.6112e-06 - accuracy: 1.0000 - val_loss: 0.5501 - val_accuracy: 0.9100\n",
            "Epoch 94/100\n",
            "196/200 [============================>.] - ETA: 0s - loss: 5.6814e-06 - accuracy: 1.0000\n",
            "Epoch 00094: val_accuracy did not improve from 0.92500\n",
            "200/200 [==============================] - 3s 13ms/step - loss: 5.5738e-06 - accuracy: 1.0000 - val_loss: 0.5522 - val_accuracy: 0.9050\n",
            "Epoch 95/100\n",
            "197/200 [============================>.] - ETA: 0s - loss: 7.0682e-06 - accuracy: 1.0000\n",
            "Epoch 00095: val_accuracy did not improve from 0.92500\n",
            "200/200 [==============================] - 2s 12ms/step - loss: 7.1026e-06 - accuracy: 1.0000 - val_loss: 0.5597 - val_accuracy: 0.9050\n",
            "Epoch 96/100\n",
            "199/200 [============================>.] - ETA: 0s - loss: 3.8338e-06 - accuracy: 1.0000\n",
            "Epoch 00096: val_accuracy did not improve from 0.92500\n",
            "200/200 [==============================] - 3s 13ms/step - loss: 3.8146e-06 - accuracy: 1.0000 - val_loss: 0.5604 - val_accuracy: 0.9050\n",
            "Epoch 97/100\n",
            "195/200 [============================>.] - ETA: 0s - loss: 1.4368e-05 - accuracy: 1.0000\n",
            "Epoch 00097: val_accuracy did not improve from 0.92500\n",
            "200/200 [==============================] - 2s 12ms/step - loss: 1.5127e-05 - accuracy: 1.0000 - val_loss: 0.5661 - val_accuracy: 0.8950\n",
            "Epoch 98/100\n",
            "200/200 [==============================] - ETA: 0s - loss: 0.5044 - accuracy: 0.8625\n",
            "Epoch 00098: val_accuracy did not improve from 0.92500\n",
            "200/200 [==============================] - 3s 14ms/step - loss: 0.5044 - accuracy: 0.8625 - val_loss: 0.7486 - val_accuracy: 0.7450\n",
            "Epoch 99/100\n",
            "197/200 [============================>.] - ETA: 0s - loss: 0.0609 - accuracy: 0.9835\n",
            "Epoch 00099: val_accuracy did not improve from 0.92500\n",
            "200/200 [==============================] - 3s 12ms/step - loss: 0.0604 - accuracy: 0.9837 - val_loss: 0.5597 - val_accuracy: 0.8500\n",
            "Epoch 100/100\n",
            "196/200 [============================>.] - ETA: 0s - loss: 0.0132 - accuracy: 0.9949\n",
            "Epoch 00100: val_accuracy did not improve from 0.92500\n",
            "200/200 [==============================] - 2s 12ms/step - loss: 0.0130 - accuracy: 0.9950 - val_loss: 0.4460 - val_accuracy: 0.9000\n"
          ]
        }
      ]
    },
    {
      "cell_type": "code",
      "source": [
        "train_loss = history.history['loss']\n",
        "valid_loss = history.history['val_loss']\n",
        "\n",
        "train_acc = history.history['accuracy']\n",
        "valid_acc = history.history['val_accuracy']\n",
        "\n",
        "plt.figure(figsize=(10,6))\n",
        "plt.plot(range(epoch), train_loss, label='train loss', c='r')\n",
        "plt.plot(range(epoch), valid_loss, label='valid loss', c='b')\n",
        "plt.plot(range(epoch), train_acc, '--', label='train acc', c='r')\n",
        "plt.plot(range(epoch), valid_acc, '--', label='valid acc', c='b')\n",
        "plt.title('Train Valid History')\n",
        "plt.legend()\n",
        "plt.show()"
      ],
      "metadata": {
        "colab": {
          "base_uri": "https://localhost:8080/",
          "height": 390
        },
        "id": "Z7gY0nrYvs00",
        "outputId": "505f8368-7a3a-4646-ec96-f8c23743bfeb"
      },
      "execution_count": 21,
      "outputs": [
        {
          "output_type": "display_data",
          "data": {
            "image/png": "[encoded data removed]",
            "text/plain": [
              "<Figure size 720x432 with 1 Axes>"
            ]
          },
          "metadata": {
            "needs_background": "light"
          }
        }
      ]
    },
    {
      "cell_type": "code",
      "source": [
        ""
      ],
      "metadata": {
        "id": "nHenpFpW1vFy"
      },
      "execution_count": null,
      "outputs": []
    }
  ]
}